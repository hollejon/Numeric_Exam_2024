{
 "cells": [
  {
   "cell_type": "code",
   "execution_count": 2,
   "metadata": {},
   "outputs": [],
   "source": [
    "#Allgemeine Imports:\n",
    "\n",
    "import numpy as np\n",
    "from numpy.linalg import norm\n",
    "from scipy.linalg import lu, solve_triangular\n",
    "import matplotlib.pyplot as plt"
   ]
  },
  {
   "attachments": {},
   "cell_type": "markdown",
   "metadata": {},
   "source": [
    "Die Allgemeine Gleichung sieht wie folgt aus:\n",
    "\n",
    "\\begin{align*}\n",
    "\n",
    "\\displaystyle \\vec{p} = \\vec{f}(\\theta_1, \\theta_2) = \\begin{pmatrix} p_x\\\\ p_y \\end{pmatrix} = \\begin{pmatrix} L_1 * cos(\\theta_1) + L_2 * cos(\\theta_1 + \\theta_2)\\\\ L_1 * sin(\\theta_1) + L_2 * sin(\\theta_1 + \\theta_2) \\end{pmatrix}\n",
    "\n",
    "\\end{align*}"
   ]
  },
  {
   "cell_type": "code",
   "execution_count": 3,
   "metadata": {},
   "outputs": [],
   "source": [
    "#Definition der Konstanten:\n",
    "L1 = 2\n",
    "L2 = 1"
   ]
  },
  {
   "cell_type": "code",
   "execution_count": 4,
   "metadata": {},
   "outputs": [],
   "source": [
    "def F(t):\n",
    "    p = np.array([2,1])\n",
    "    print(p)\n",
    "    p = [L1*np.cos(t[0]) + L2 *np.cos(t[0]+t[1]), L1*np.sin(t[0]) + L2 *np.sin(t[0]+t[1])]\n",
    "    return p\n"
   ]
  },
  {
   "cell_type": "code",
   "execution_count": 5,
   "metadata": {},
   "outputs": [
    {
     "name": "stdout",
     "output_type": "stream",
     "text": [
      "[2 1]\n",
      "[-1.  2.]\n"
     ]
    }
   ],
   "source": [
    "#Teste die Funktion:\n",
    "\n",
    "theta = [np.pi/2, np.pi/2]\n",
    "\n",
    "# sollte den Punkt P = (-1/2) ergeben, da beide Winkel 90 Grad sind\n",
    "P = F(theta)\n",
    "print(np.round(P, 10))"
   ]
  },
  {
   "attachments": {},
   "cell_type": "markdown",
   "metadata": {},
   "source": [
    "Die Gleichung von oben muss für die Newton Iteration als Nullstellenform formuliert werden:\n",
    "\n",
    "\\begin{align*}\n",
    "\n",
    "\\displaystyle \\begin{pmatrix} L_1 * cos(\\theta_1) + L_2 * cos(\\theta_1 + \\theta_2) -p_x\\\\ L_1 * sin(\\theta_1) + L_2 * sin(\\theta_1 + \\theta_2) - p_y \\end{pmatrix} = \\begin{pmatrix} 0 \\\\ 0 \\end{pmatrix}\n",
    "\n",
    "\\end{align*}"
   ]
  },
  {
   "cell_type": "code",
   "execution_count": 6,
   "metadata": {},
   "outputs": [
    {
     "name": "stdout",
     "output_type": "stream",
     "text": [
      "[0.0, 0.0]\n"
     ]
    }
   ],
   "source": [
    "#Nullstellenform\n",
    "def F(t):\n",
    "    p = np.array([2,1])\n",
    "    p = [L1*np.cos(t[0]) + L2 *np.cos(t[0]+t[1]) - P[0], L1*np.sin(t[0]) + L2 *np.sin(t[0]+t[1]) - P[1]]\n",
    "    return p\n",
    "\n",
    "test_f = F(theta)\n",
    "#Sollte nun [0, 0] ergeben:\n",
    "print(test_f)"
   ]
  },
  {
   "cell_type": "code",
   "execution_count": 7,
   "metadata": {},
   "outputs": [
    {
     "name": "stdout",
     "output_type": "stream",
     "text": [
      "[[-2. -0.]\n",
      " [-1. -1.]]\n"
     ]
    }
   ],
   "source": [
    "#Jacobi-Matrix\n",
    "def dF(t):\n",
    "    dp = np.array([2,2])\n",
    "    dp = [[-L1*np.sin(t[0]) - L2*np.sin(t[0]+t[1]), -L2*np.sin(t[0]+t[1])],[L2*np.cos(t[0]+t[1])+L1*np.cos(t[0]), L2*np.cos(t[0]+t[1])]]\n",
    "    return dp\n",
    "\n",
    "test_df = dF(theta)\n",
    "print(np.round(test_df, 5))"
   ]
  },
  {
   "cell_type": "code",
   "execution_count": 8,
   "metadata": {},
   "outputs": [],
   "source": [
    "#Teste die Newtoniteration bei Theta1 = Theta2 = pi/2 --> p = [-1, 2]\n",
    "P = [-1,2]\n",
    "#Anfangswinkel\n",
    "a0 = [1, 1]\n",
    "#Anzahl Iterationen:\n",
    "iter = 15\n",
    "\n",
    "def Newton(t):\n",
    "    for step in range(0, iter):\n",
    "        A = dF(t)\n",
    "        b = F(t)\n",
    "        #LU Zerlegung\n",
    "        P, L, U = lu(A)\n",
    "        z = solve_triangular(L, P.T@b, lower=True) # Vorwärtseinsetzen\n",
    "        delta = solve_triangular(U, z, lower=False) #Rückwärtseinsetzen\n",
    "        t -= delta  #Newton Schritt\n",
    "        res = np.linalg.norm(F(t)) #Berechne \n",
    "     \n",
    "    return t\n",
    "        \n",
    "t_k = Newton(a0)\n"
   ]
  },
  {
   "attachments": {},
   "cell_type": "markdown",
   "metadata": {},
   "source": [
    "## Newtonverfahren mit Abbruchsbedingung von 14 Bit Genauigkeit\n",
    "14 Bit Genauigkeit: $\\frac{1}{2^{14}} = 0.000061 = 6.1e-5$"
   ]
  },
  {
   "cell_type": "code",
   "execution_count": 9,
   "metadata": {},
   "outputs": [
    {
     "data": {
      "image/png": "[encoded data removed]",
      "text/plain": [
       "<Figure size 640x480 with 1 Axes>"
      ]
     },
     "metadata": {},
     "output_type": "display_data"
    }
   ],
   "source": [
    "#Teste die Newtoniteration bei Theta1 = Theta2 = pi/2 --> p = [-1, 2]\n",
    "#P = [-1, 2]\n",
    "\n",
    "def Newton(t):\n",
    "    #Anfangswinkel\n",
    "    a0 = [np.pi / 2, np.pi / 2]\n",
    "    #Anzahl Iterationen:\n",
    "    iter = 1000\n",
    "    # Tolerance\n",
    "    tol = 6.1e-9\n",
    "\n",
    "    step = 0\n",
    "    res_k = np.array([]) #?\n",
    "    res = np.linalg.norm(F(t))\n",
    "    while res > tol and step < iter:\n",
    "        A = dF(t)\n",
    "        b = F(t)\n",
    "        #LU Zerlegung\n",
    "        P, L, U = lu(A)\n",
    "        z = solve_triangular(L, P.T@b, lower=True) # Vorwärtseinsetzen\n",
    "        delta = solve_triangular(U, z, lower=False) #Rückwärtseinsetzen\n",
    "        t -= delta  #Newton Schritt\n",
    "        res = np.linalg.norm(F(t)) #Berechne \n",
    "        step += 1\n",
    "        #print(step, t, res)\n",
    "        res_k = np.append(res_k,[res],axis= 0)\n",
    "    return t, res_k\n",
    "\n",
    "\n",
    "a_k, res_k= Newton(a0)\n",
    "plt.plot(res_k, marker=\"o\")\n",
    "plt.xlabel('Step')\n",
    "plt.ylabel('Abweichung')\n",
    "plt.grid()\n",
    "plt.yscale(\"log\")\n",
    "plt.show()"
   ]
  },
  {
   "attachments": {},
   "cell_type": "markdown",
   "metadata": {},
   "source": [
    "## Kovergenzverhalten\n",
    "- Genauigkeiten in Abhängigkeit der Interationen plotten (loglog oder halblog):\\\n",
    "&emsp; Siehe plot.\n",
    "\n",
    "- Welches konvergenzverhalten erwarten Sie?\\\n",
    "&emsp; Beim Newton verfahren eine quadratische.\n",
    "\n",
    "- Mit Fehlern experimentieren (andere Vorzeichen, andere Vorfaktor). Wie ändert sich die Konvergenz?\\\n",
    "&emsp; Beim Winkel: Bei grösseren Werten verhält sich die Konvergenz zu beginn Linar (oder einach schlechter als quadratisch), hat man aber einen geeigneten Punkt gefunden, strebt man quadratisch zur Lösungs.\\\n",
    "&emsp; Beim Punkt: Werte die nicht erreichbar sind geben keine Lösung -> es konvergiert nicht.\n",
    "\n",
    "- Was schliessen Sie daraus für die Entwicklung effizienter Verfahren?\\\n",
    "&emsp; 1. Abbruchkriterium implementieren (mit print Error) um endlose While-Schlaufen zu verhindern. 2.Bei Eingabe prüfen ob die Eingabe stimmt, resp. erreichbar ist. 3. Bei grossen Zahlenerreis, resp. wenn viel Interationen erwartet werden, es sehr genau werden muss -> Newtonverfahren. Bei sehr kleinen überschaubaren Rechnungen -> Fixpunktiteration. Da der Rechenaufwand selbst kleiner ist."
   ]
  },
  {
   "attachments": {},
   "cell_type": "markdown",
   "metadata": {},
   "source": [
    "## Robustheit\n",
    "- Konvergiert das Verfahren immer?\\\n",
    "&emsp; Nein. Zeigt die Tangente immer in die flasche Richtung, kann es sogar sein das man die Lösung nie erreicht.\n",
    "\n",
    "- Effizente Strategie zur Whal der Startwerte:\\\n",
    "&emsp; Am besten Ploten man die Menge kurz, und wählt einen Wert der in der Nähe der Lösungsmenge liegt. Dadurch wird es um einiges schneller gerechnet und es ist unwahrscheinlicher das das Verfahren fehlschlägt.\n",
    "\n",
    "- Startwerte für die keine Lösung existiert:\\\n",
    "&emsp; -> gibt es keine Lösung -> konvergiert nicht.\n",
    "\n",
    "- Wie sind die Punkte mit existierender Lösung charakterisiert:\\\n",
    "&emsp; -> Es konvergiert schneller wenn der Startwert nahe an der echten Lösung liegt. Da es sich um trigonometrische Funktionen handelt, landet man auch nicht ausserhalb des Definitionsbereichs. -> mit einem Punkt bei welchem eine Lösung existert kann das verfahren nicht fehlschlagen."
   ]
  },
  {
   "attachments": {},
   "cell_type": "markdown",
   "metadata": {},
   "source": [
    "## Ein- oder Mehrdeutigkeit der Lösung:\n",
    "- Ist die Lösung eindeutig?\\\n",
    "&emsp; Nein, es gibt für jeden Punkt genau zwei Lösungen (ausser der Arm ist voll gestreckt). Da die beiden Winkel vom kleinen und grossen Arm variert werden können."
   ]
  },
  {
   "attachments": {},
   "cell_type": "markdown",
   "metadata": {},
   "source": [
    "## Abfahren einer Trajektorie\n",
    "\n",
    "Graphische Darstellung: \n",
    "- Stellen Sie den Verlauf der beiden Winkel in Abhängigkeit des Geradenparameters t graphisch dar.\n",
    "\n",
    "Optimierung des Startwertes:\n",
    "- Wählen Sie den Startwert optimal aufgrund der Struktur der vorliegenden Aufgabenstellung.\n"
   ]
  },
  {
   "cell_type": "code",
   "execution_count": 10,
   "metadata": {},
   "outputs": [
    {
     "data": {
      "image/png": "[encoded data removed]",
      "text/plain": [
       "<Figure size 640x480 with 1 Axes>"
      ]
     },
     "metadata": {},
     "output_type": "display_data"
    }
   ],
   "source": [
    "def Bahn(t):\n",
    "    p0 = np.array([1, -2])\n",
    "    d = 1/(np.sqrt(17)) * np.array([-4, 1])\n",
    "    #print(p0 + t*d)\n",
    "    return p0 + t*d\n",
    "\n",
    "def draw_robot(n):\n",
    "    x1 = L1 * np.cos(angle[n, 0])\n",
    "    y1 = L1 * np.sin(angle[n, 0])\n",
    "    x2 = x1 + L2 *np.cos(angle[n, 0]+angle[n, 1])\n",
    "    y2 = y1 + L2 *np.sin(angle[n, 0]+angle[n ,1])\n",
    "    line1, = plt.plot([0, y1], [0, x1], 'ko-')\n",
    "    line2, = plt.plot([y1, y2], [x1, x2], 'ko-')\n",
    "    \n",
    "ak = np.zeros([1,2])\n",
    "ak = [np.pi, 3*np.pi/2]\n",
    "zeit_bahn = np.linspace(0,4,401)\n",
    "P_trajectory = np.zeros([401, 2])\n",
    "angle = np.zeros([401,2])\n",
    "P = Bahn(zeit_bahn[0])\n",
    "for i in range(0, zeit_bahn.shape[0]):\n",
    "    P = Bahn(zeit_bahn[i])\n",
    "    P_trajectory[i] = P\n",
    "    a_k_new, res_k = Newton(a_k)\n",
    "    angle[i] = a_k_new\n",
    "    a_k = a_k_new\n",
    "    #print(a_k, P)\n",
    "P_x = P_trajectory[:,1]\n",
    "P_y = P_trajectory[:,0]\n",
    "#print(angle)\n",
    "plt.plot(P_x, P_y)\n",
    "plt.plot(0,0, marker=\"o\", color='black')\n",
    "draw_robot(400)\n",
    "plt.grid()\n",
    "\n",
    "plt.ylim((-3,3))\n",
    "plt.xlim((-3,3))\n",
    "plt.show()\n"
   ]
  },
  {
   "cell_type": "markdown",
   "metadata": {},
   "source": [
    "# GLS\n"
   ]
  },
  {
   "cell_type": "code",
   "execution_count": 11,
   "metadata": {},
   "outputs": [
    {
     "name": "stdout",
     "output_type": "stream",
     "text": [
      "[1 1]\n",
      "[1 1]\n",
      "[]\n"
     ]
    },
    {
     "data": {
      "image/png": "[encoded data removed]",
      "text/plain": [
       "<Figure size 640x480 with 1 Axes>"
      ]
     },
     "metadata": {},
     "output_type": "display_data"
    }
   ],
   "source": [
    "def Newton(t):\n",
    "\n",
    "    iter = 1000\n",
    "    # Tolerance\n",
    "    tol = 6.1e-9\n",
    "\n",
    "    step = 0\n",
    "    res_k = np.array([]) \n",
    "    res = np.linalg.norm(F(t))\n",
    "    while res > tol and step < iter:\n",
    "        A = dF(t)\n",
    "        b = F(t)\n",
    "        #LU Zerlegung\n",
    "        P, L, U = lu(A)\n",
    "        z = solve_triangular(L, P.T@b, lower=True) # Vorwärtseinsetzen\n",
    "        delta = solve_triangular(U, z, lower=False) #Rückwärtseinsetzen\n",
    "        t -= delta  #Newton Schritt\n",
    "        res = np.linalg.norm(F(t)) #Berechne \n",
    "        step += 1\n",
    "        #print(step, t, res)\n",
    "        res_k = np.append(res_k,[res],axis= 0)\n",
    "    return t, res_k\n",
    "\n",
    "\n",
    "\n",
    "\n",
    "\n",
    "\n",
    "def F(t):\n",
    "    p = [[t[0]**2+2*t[1]**2-3],[2*np.sin(t[0])*np.sin(t[1]-1)]]\n",
    "    return p\n",
    "\n",
    "\n",
    "def dF(t):\n",
    "    J = [[2*t[0],4*t[1]],[2*np.cos(t[0])*np.sin(t[1]-1),2*np.sin(t[0])*np.cos(t[1]-1)]]\n",
    "\n",
    "    return J\n",
    "\n",
    "\n",
    "\n",
    "\n",
    "x0 =np.array([1,1])\n",
    "print(x0)\n",
    "\n",
    "a_k, res_k= Newton(x0)\n",
    "print(a_k)\n",
    "print(res_k)\n",
    "\n",
    "plt.plot(res_k, marker=\"o\")\n",
    "plt.xlabel('Step')\n",
    "plt.ylabel('Abweichung')\n",
    "plt.grid()\n",
    "plt.show()"
   ]
  },
  {
   "cell_type": "markdown",
   "metadata": {},
   "source": [
    "# Serie 14 4a GLS mit Solver"
   ]
  },
  {
   "cell_type": "code",
   "execution_count": 12,
   "metadata": {},
   "outputs": [
    {
     "name": "stdout",
     "output_type": "stream",
     "text": [
      "start value: [1.5 0. ]\n",
      "Found solution after 21 iterations: x = [-0.63523267 -1.13940323] \n",
      "\n",
      "start value: [1.21352549 0.88167788]\n",
      "Found solution after 13 iterations: x = [-1.59575261  0.47622138] \n",
      "\n",
      "start value: [0.46352549 1.42658477]\n",
      "Exceeded maximum iterations. No solution found.\n",
      "\n",
      "start value: [-0.46352549  1.42658477]\n",
      "Found solution after 11 iterations: x = [-1.59575261  0.47622138] \n",
      "\n",
      "start value: [-1.21352549  0.88167788]\n",
      "Found solution after 5 iterations: x = [-1.59575261  0.47622138] \n",
      "\n",
      "start value: [-1.5000000e+00  1.8369702e-16]\n",
      "Found solution after 5 iterations: x = [-1.59575261  0.47622138] \n",
      "\n",
      "start value: [-1.21352549 -0.88167788]\n",
      "Found solution after 5 iterations: x = [-0.63523267 -1.13940323] \n",
      "\n",
      "start value: [-0.46352549 -1.42658477]\n",
      "Found solution after 4 iterations: x = [-0.63523267 -1.13940323] \n",
      "\n",
      "start value: [ 0.46352549 -1.42658477]\n",
      "Found solution after 5 iterations: x = [-0.63523267 -1.13940323] \n",
      "\n",
      "start value: [ 1.21352549 -0.88167788]\n",
      "Found solution after 7 iterations: x = [-0.63523267 -1.13940323] \n",
      "\n"
     ]
    },
    {
     "data": {
      "image/png": "[encoded data removed]",
      "text/plain": [
       "<Figure size 640x480 with 1 Axes>"
      ]
     },
     "metadata": {},
     "output_type": "display_data"
    }
   ],
   "source": [
    "import numpy as np\n",
    "import scipy as sp\n",
    "import sympy as sym\n",
    "import matplotlib.pyplot as plt\n",
    "\n",
    "\n",
    "\n",
    "\n",
    "def newton_solver(f, J, x, tol = 1e-10, max_iter = 100):\n",
    "    for i in range(max_iter):\n",
    "        if np.linalg.norm(f(x)) < tol:\n",
    "            print('Found solution after',i,'iterations: x =',x,'\\n')\n",
    "            return x\n",
    "        delta = np.linalg.solve(J(x), f(x))\n",
    "        x = x - delta\n",
    "\n",
    "    print('Exceeded maximum iterations. No solution found.\\n')\n",
    "    return None\n",
    "\n",
    "\n",
    "    \n",
    "\n",
    "def f(x):\n",
    "    return np.array([\n",
    "        x[0]**2 + 2*x[1]**2 - 3,\n",
    "        2*np.sin(x[0])*np.sin(x[1]-1)-1\n",
    "    ])\n",
    "\n",
    "def Df(x):\n",
    "    return np.array([\n",
    "        [2*x[0], 4*x[1]],\n",
    "        [2*np.sin(x[1]-1)*np.cos(x[0]), 2*np.sin(x[0])*np.cos(x[1]-1)]\n",
    "    ])\n",
    "\n",
    "# both solutions are inside the circle with radius 2 => define 10 starting points on the circle with radius 1.5\n",
    "xa = []\n",
    "for k in range(10):\n",
    "    xa.append(np.array([1.5*np.cos(k*2.0*np.pi/10.0), 1.5*np.sin(k*2.0*np.pi/10.0)]))\n",
    "xa = np.array(xa)\n",
    "solutions = []\n",
    "for xak in xa:\n",
    "    print('start value:', xak)\n",
    "    solutions.append(newton_solver(f, Df, xak))\n",
    "\n",
    "# plot solutions\n",
    "plt.figure()\n",
    "plt.plot(xa[:, 0], xa[:, 1], 'o', markersize=4, label='start values')\n",
    "for sol in solutions:\n",
    "    if sol is not None:\n",
    "        plt.plot(sol[0], sol[1], 'o', markersize=10)\n",
    "plt.legend()\n",
    "plt.xlabel('x0')\n",
    "plt.ylabel('x1')\n",
    "plt.show()"
   ]
  },
  {
   "cell_type": "markdown",
   "metadata": {},
   "source": [
    "# Serie 14 4b"
   ]
  },
  {
   "cell_type": "code",
   "execution_count": 13,
   "metadata": {},
   "outputs": [
    {
     "name": "stdout",
     "output_type": "stream",
     "text": [
      "start value: [1.5 0. ]\n",
      "Found solution after 13 iterations: x = [-0.15611105  0.82932376] \n",
      "\n",
      "start value: [1.21352549 0.88167788]\n",
      "Found solution after 10 iterations: x = [-0.15611105  0.82932376] \n",
      "\n",
      "start value: [0.46352549 1.42658477]\n",
      "Found solution after 9 iterations: x = [-0.15611105  0.82932376] \n",
      "\n",
      "start value: [-0.46352549  1.42658477]\n",
      "Found solution after 7 iterations: x = [-0.15611105  0.82932376] \n",
      "\n",
      "start value: [-1.21352549  0.88167788]\n",
      "Found solution after 8 iterations: x = [-0.18588911  0.79260442] \n",
      "\n",
      "start value: [-1.5000000e+00  1.8369702e-16]\n",
      "Found solution after 8 iterations: x = [ 0.05235878 -1.05105545] \n",
      "\n",
      "start value: [-1.21352549 -0.88167788]\n",
      "Found solution after 6 iterations: x = [ 0.05235878 -1.05105545] \n",
      "\n",
      "start value: [-0.46352549 -1.42658477]\n",
      "Found solution after 5 iterations: x = [ 0.05235878 -1.05105545] \n",
      "\n",
      "start value: [ 0.46352549 -1.42658477]\n",
      "Found solution after 4 iterations: x = [ 0.05235878 -1.05105545] \n",
      "\n",
      "start value: [ 1.21352549 -0.88167788]\n",
      "Found solution after 6 iterations: x = [ 0.05235878 -1.05105545] \n",
      "\n"
     ]
    },
    {
     "data": {
      "image/png": "[encoded data removed]",
      "text/plain": [
       "<Figure size 640x480 with 1 Axes>"
      ]
     },
     "metadata": {},
     "output_type": "display_data"
    }
   ],
   "source": [
    "def newton_solver(f, J, x, tol = 1e-10, max_iter = 100):\n",
    "    for i in range(max_iter):\n",
    "        if np.linalg.norm(f(x)) < tol:\n",
    "            print('Found solution after',i,'iterations: x =',x,'\\n')\n",
    "            return x\n",
    "        delta = np.linalg.solve(J(x), f(x))\n",
    "        x = x - delta\n",
    "\n",
    "    print('Exceeded maximum iterations. No solution found.\\n')\n",
    "    return None\n",
    "\n",
    "\n",
    "    \n",
    "\n",
    "def f(x):\n",
    "    return np.array([\n",
    "        np.exp(x[0]**2-2*x[1]**2)+2*x[0]*x[1],\n",
    "        x[1]**2-2*x[0]-1\n",
    "    ])\n",
    "\n",
    "def Df(x):\n",
    "    return np.array([\n",
    "        [np.exp(x[0]**2-2*x[1]**2)*2*x[0]+2*x[1],np.exp(x[0]**2-2*x[1]**2)*-4*x[1]+2*x[0]],\n",
    "        [-2,2*x[1]]\n",
    "    ])\n",
    "# all Start values are inside the circle to find the solutions faster\n",
    "# both solutions are inside the circle with radius 2 => define 10 starting points on the circle with radius 1.5\n",
    "xa = []\n",
    "for k in range(10):\n",
    "    xa.append(np.array([1.5*np.cos(k*2.0*np.pi/10.0), 1.5*np.sin(k*2.0*np.pi/10.0)]))\n",
    "xa = np.array(xa)\n",
    "solutions = []\n",
    "for xak in xa:\n",
    "    print('start value:', xak)\n",
    "    solutions.append(newton_solver(f, Df, xak))\n",
    "\n",
    "# plot solutions\n",
    "plt.figure()\n",
    "plt.plot(xa[:, 0], xa[:, 1], 'o', markersize=4, label='start values')\n",
    "for sol in solutions:\n",
    "    if sol is not None:\n",
    "        plt.plot(sol[0], sol[1], 'o', markersize=10)\n",
    "plt.legend()\n",
    "plt.xlabel('x0')\n",
    "plt.ylabel('x1')\n",
    "plt.show()"
   ]
  }
 ],
 "metadata": {
  "kernelspec": {
   "display_name": "Python 3",
   "language": "python",
   "name": "python3"
  },
  "language_info": {
   "codemirror_mode": {
    "name": "ipython",
    "version": 3
   },
   "file_extension": ".py",
   "mimetype": "text/x-python",
   "name": "python",
   "nbconvert_exporter": "python",
   "pygments_lexer": "ipython3",
   "version": "3.11.8"
  },
  "orig_nbformat": 4
 },
 "nbformat": 4,
 "nbformat_minor": 2
}
