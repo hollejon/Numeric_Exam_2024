{
 "cells": [
  {
   "cell_type": "code",
   "execution_count": 82,
   "metadata": {},
   "outputs": [],
   "source": [
    "# Bibliotheken\n",
    "import numpy as np\n",
    "import scipy as sp\n",
    "import sympy as sym\n",
    "import matplotlib.pyplot as plt"
   ]
  },
  {
   "attachments": {},
   "cell_type": "markdown",
   "metadata": {},
   "source": [
    "# A1 b) LU-Zerlegung, relativer Fehler, Fehlerverstaerkungsfaktor"
   ]
  },
  {
   "cell_type": "code",
   "execution_count": 83,
   "metadata": {},
   "outputs": [
    {
     "name": "stdout",
     "output_type": "stream",
     "text": [
      "x_exact: [0.98 0.95 1.01 0.91]\n",
      "x_not_exact: [1. 1. 1. 1.]\n",
      "relativer Fehler von x: 0.044155844155842464\n",
      "relativer Fehler von b: 0.0058091286307054\n",
      "Verstaerkungsfaktor: 7.601113172541446\n"
     ]
    }
   ],
   "source": [
    "A = np.array([[8, -7, 2, 2], \n",
    "              [5, -2, 1, 0], \n",
    "              [2, -1, 1, 0], \n",
    "              [0, -2, 0, 1]], dtype=float)\n",
    "\n",
    "b_not_exact = np.array([5, 4, 2, -1], dtype=float)\n",
    "b_exact = np.array([5.03, 4.01, 2.02, -0.99], dtype=float)\n",
    "\n",
    "# LU decomposition\n",
    "P_T, L, U = sp.linalg.lu(A) # A = P_T @ L @ U\n",
    "P = P_T.T # P = P_T_T\n",
    "\n",
    "\"\"\"\n",
    "LGS mit LU-Zerlegung loesen:\n",
    "\n",
    "A @ x = b               <=>\n",
    "P_T @ L @ U @ x = b     <=>\n",
    "L @ U @ x = P @ b       <=>\n",
    "L @ y = P @ b           <=>\n",
    "U @ x = y               nach x aufloesen\n",
    "\"\"\"\n",
    "\n",
    "# solve A @ x = b_exact\n",
    "y = sp.linalg.solve_triangular(L, P @ b_exact, lower=True) # L @ y = P @ b_exact nach y aufloesen\n",
    "x_exact = sp.linalg.solve_triangular(U, y, lower=False) # U @ x_exact = y nach x_exact aufloesen\n",
    "print(f\"x_exact: {x_exact}\")\n",
    "\n",
    "# solve A @ x = b_not_exact\n",
    "y = sp.linalg.solve_triangular(L, P @ b_not_exact, lower=True) # L @ y = P.T @ b_not_exact nach y aufloesen\n",
    "x_not_exact = sp.linalg.solve_triangular(U, y, lower=False) # U @ x_not_exact = y nach x_not_exact aufloesen\n",
    "print(f\"x_not_exact: {x_not_exact}\")\n",
    "\n",
    "# Zaehler und Nenner fuer den relativen Fehler von x berechnen, resp. 1-norm von delta_x und 1-norm von x_exact\n",
    "delta_x_norm = np.linalg.norm(x_exact - x_not_exact, ord=1) # 1-norm of delta_x\n",
    "x_exact_norm = np.linalg.norm(x_exact, ord=1) # 1-norm of x_exact\n",
    "\n",
    "# relativen Fehler von x berechnen\n",
    "rel_error_x = delta_x_norm / x_exact_norm # relativer Fehler = delta_x_norm / x_exact_norm\n",
    "print(f\"relativer Fehler von x: {rel_error_x}\")\n",
    "\n",
    "\n",
    "# Verstaerkungsfaktor berechnen\n",
    "\"\"\"\n",
    "Verstaerkungsfaktor := relative Aenderung von x / relative Aenderung von b = rel_error_x / rel_error_b\n",
    "\"\"\"\n",
    "\n",
    "# dazu muessen wir zuerst den relativen Fehler von b berechnen\n",
    "rel_error_b = np.linalg.norm(b_exact - b_not_exact, ord=1) / np.linalg.norm(b_exact, ord=1) # relativer Fehler von b\n",
    "print(f\"relativer Fehler von b: {rel_error_b}\")\n",
    "\n",
    "# Verstaerkungsfaktor berechnen\n",
    "verstaerkungsfaktor = rel_error_x / rel_error_b\n",
    "print(f\"Verstaerkungsfaktor: {verstaerkungsfaktor}\")"
   ]
  },
  {
   "attachments": {},
   "cell_type": "markdown",
   "metadata": {},
   "source": [
    "# A2 a) Lineare Ausgleichsrechnung, Cholesky-Zerlegung, QR-Zerlegung"
   ]
  },
  {
   "cell_type": "code",
   "execution_count": 84,
   "metadata": {},
   "outputs": [
    {
     "name": "stdout",
     "output_type": "stream",
     "text": [
      "A: \n",
      "[[ 1.0000000e+00  1.0000000e+00  0.0000000e+00]\n",
      " [ 1.0000000e+00  6.1232340e-17  1.0000000e+00]\n",
      " [ 1.0000000e+00 -1.0000000e+00  1.2246468e-16]\n",
      " [ 1.0000000e+00 -1.8369702e-16 -1.0000000e+00]\n",
      " [ 1.0000000e+00  1.0000000e+00 -2.4492936e-16]]\n",
      "u: \n",
      "[-1.5  1.5  2.5 -0.5 -1.5]\n"
     ]
    }
   ],
   "source": [
    "#ueberbestimmtes LGS aufstellen\n",
    "\"\"\"\n",
    "ueberbestimmtes LGS: \n",
    "A @ alpha = u\n",
    "\"\"\"\n",
    "\n",
    "# gegeben aus Aufgabenstellung\n",
    "t = np.array([0, 5, 10, 15, 20], dtype=float)\n",
    "periode = 20.0\n",
    "omega = 2 * np.pi / periode\n",
    "u = np.array([-1.5, 1.5, 2.5, -0.5, -1.5]) # rechte Seite des LGS\n",
    "\n",
    "# Matrix A aufstellen\n",
    "A = np.zeros((5, 3), dtype=float)\n",
    "for i in range(5):\n",
    "    A[i, :] = np.array([1, np.cos(omega*t[i]), np.sin(omega*t[i])]) # Zeile i von A: [1, cos(t[i]), sin(t[i])]\n",
    "\n",
    "print(f\"A: \\n{A}\")\n",
    "print(f\"u: \\n{u}\")"
   ]
  },
  {
   "cell_type": "code",
   "execution_count": 85,
   "metadata": {},
   "outputs": [
    {
     "name": "stdout",
     "output_type": "stream",
     "text": [
      "A.T @ A: \n",
      "[[ 5.00000000e+00  1.00000000e+00 -2.28847549e-17]\n",
      " [ 1.00000000e+00  3.00000000e+00 -1.22464680e-16]\n",
      " [-2.28847549e-17 -1.22464680e-16  2.00000000e+00]]\n",
      "A.T @ u: \n",
      "[ 0.5 -5.5  2. ]\n"
     ]
    }
   ],
   "source": [
    "# Normalgleichung aufstellen\n",
    "\n",
    "\"\"\"\n",
    "Normalgleichung: \n",
    "A.T @ A @ alpha = A.T @ u\n",
    "\"\"\"\n",
    "print(f\"A.T @ A: \\n{A.T @ A}\")\n",
    "print(f\"A.T @ u: \\n{A.T @ u}\")"
   ]
  },
  {
   "attachments": {},
   "cell_type": "markdown",
   "metadata": {},
   "source": [
    "Variante 1: Cholesky von A.T @ A"
   ]
  },
  {
   "cell_type": "code",
   "execution_count": 86,
   "metadata": {},
   "outputs": [
    {
     "name": "stdout",
     "output_type": "stream",
     "text": [
      "\n",
      "C: \n",
      "[[ 2.23606798e+00  0.00000000e+00  0.00000000e+00]\n",
      " [ 4.47213595e-01  1.67332005e+00  0.00000000e+00]\n",
      " [-1.02343735e-17 -7.04513932e-17  1.41421356e+00]]\n",
      "\n",
      "alpha: [ 0.5 -2.   1. ]\n"
     ]
    }
   ],
   "source": [
    "# Cholesky-Zerlegung von A.T @ A\n",
    "C = sp.linalg.cholesky(A.T @ A, lower=True) # A.T @ A = C @ C^T\n",
    "print(f\"\\nC: \\n{C}\")\n",
    "\n",
    "# Normalgleichung mit Cholesky-Zerlegung loesen\n",
    "\"\"\"\n",
    "A.T @ A @ alpha = A.T @ u <=> \n",
    "C @ C.T @ alpha = A.T @ u\n",
    "\n",
    "C @ y = A.T @ u nach y aufloesen \n",
    "C.T @ alpha = y nach alpha aufloesen\n",
    "\"\"\"\n",
    "y = sp.linalg.solve_triangular(C, A.T @ u, lower=True) # C @ y = A.T @ u nach y aufloesen\n",
    "alpha = sp.linalg.solve_triangular(C.T, y, lower=False)  # C^T @ alpha = y nach alpha aufloesen\n",
    "print(f\"\\nalpha: {alpha}\")"
   ]
  },
  {
   "attachments": {},
   "cell_type": "markdown",
   "metadata": {},
   "source": [
    "Variante 2: (reduzierte) QR Zerlegung von A"
   ]
  },
  {
   "cell_type": "code",
   "execution_count": 87,
   "metadata": {},
   "outputs": [
    {
     "name": "stdout",
     "output_type": "stream",
     "text": [
      "\n",
      "Q:\n",
      "[[-4.47213595e-01  4.78091444e-01 -2.35149010e-16]\n",
      " [-4.47213595e-01 -1.19522861e-01  7.07106781e-01]\n",
      " [-4.47213595e-01 -7.17137166e-01  3.15913018e-16]\n",
      " [-4.47213595e-01 -1.19522861e-01 -7.07106781e-01]\n",
      " [-4.47213595e-01  4.78091444e-01 -2.94709645e-16]]\n",
      "\n",
      "R:\n",
      "[[-2.23606798e+00 -4.47213595e-01  5.47678698e-17]\n",
      " [ 0.00000000e+00  1.67332005e+00  0.00000000e+00]\n",
      " [ 0.00000000e+00  0.00000000e+00  1.41421356e+00]]\n",
      "\n",
      "alpha: [ 0.5 -2.   1. ]\n"
     ]
    }
   ],
   "source": [
    "# reduzierte (economic) QR-Zerlegung von A\n",
    "Q, R = sp.linalg.qr(A, mode=\"economic\") # A = Q @ R\n",
    "print(f\"\\nQ:\\n{Q}\")\n",
    "print(f\"\\nR:\\n{R}\")\n",
    "\n",
    "# Normalgleichung mit reduzierter QR-Zerlegung loesen\n",
    "alpha = sp.linalg.solve_triangular(R, Q.T @ u, lower=False) # R @ alpha = Q.T @ u nach alpha aufloesen\n",
    "print(f\"\\nalpha: {alpha}\")"
   ]
  },
  {
   "cell_type": "code",
   "execution_count": 88,
   "metadata": {},
   "outputs": [
    {
     "name": "stdout",
     "output_type": "stream",
     "text": [
      "phi bei Messzeitpunkten mit berechneten Parametern alpha: [-1.5  1.5  2.5 -0.5 -1.5]\n"
     ]
    }
   ],
   "source": [
    "def create_phi(alpha, omega):\n",
    "\n",
    "    def phi(t):\n",
    "        return alpha[0] + alpha[1] * np.cos(omega * t) + alpha[2] * np.sin(omega * t)\n",
    "    \n",
    "    return phi\n",
    "\n",
    "phi = create_phi(alpha, omega)\n",
    "\n",
    "# evaluate phi at t = 0, 5, 10, 15, 20\n",
    "print(f\"phi bei Messzeitpunkten mit berechneten Parametern alpha: {phi(t)}\")"
   ]
  },
  {
   "attachments": {},
   "cell_type": "markdown",
   "metadata": {},
   "source": [
    "# A2 b) kubisch periodischer Spline"
   ]
  },
  {
   "cell_type": "code",
   "execution_count": 89,
   "metadata": {},
   "outputs": [
    {
     "name": "stdout",
     "output_type": "stream",
     "text": [
      "Momentenvektor:[ 0.24 -0.12 -0.24  0.12  0.24]\n",
      "Wert des Splines bei t=12ms: s(12ms) = 1.516V\n"
     ]
    }
   ],
   "source": [
    "# Funktion Praktikum 13\n",
    "def cubic_periodic_spline(x_values, y_values):\n",
    "    \n",
    "    # (konstante) Schrittweite\n",
    "    h = x_values[1] - x_values[0]\n",
    "\n",
    "    # Anzahl der Stützstellen\n",
    "    m = len(x_values)\n",
    "\n",
    "    # rechte Seite des linearen Gleichungssystems für die Momente aufstellen\n",
    "    b = (6/h**2) * (4*y_values[0:m-2] - 8*y_values[1:m-1] + 4*y_values[2:m])\n",
    "    b[0] += (6/h**2) * ((y_values[m-1] - y_values[m-2]) -  (y_values[1] - y_values[0]))\n",
    "    b[-1] +=  (6/h**2) * ((y_values[m-1] - y_values[m-2]) - (y_values[1] - y_values[0]))\n",
    "\n",
    "    # Matrix A für das lineare Gleichungssystem aufstellen\n",
    "    A = np.zeros((m-2, m-2))\n",
    "    A[0, 0] = 15\n",
    "    A[0, 1] = 4\n",
    "    A[0, m-3] = -1\n",
    "    for i in range(1, m-3): \n",
    "        A[i,i-1] = 4\n",
    "        A[i,i] = 16\n",
    "        A[i,i+1] = 4\n",
    "    A[m-3, 0] = -1\n",
    "    A[m-3, m-4] = 4\n",
    "    A[m-3, m-3] = 15\n",
    "\n",
    "    # Momentenvektor initialisieren\n",
    "    M = np.zeros(m)\n",
    "\n",
    "    # LGS lösen\n",
    "    L = sp.linalg.cholesky(A, lower=True) # Cholesky-Zerlegung\n",
    "    y = sp.linalg.solve_triangular(L, b, lower=True) # Vorwärtseinsetzen    \n",
    "    M[1:m-1] = sp.linalg.solve_triangular(L.T, y, lower=False) # Rückwärtseinsetzen\n",
    "\n",
    "    # periodische Randbedingungen auf die äussersten Momente anwenden\n",
    "    M[0] = M[m-1] = 3/(2*h) * ( (y_values[1]-y_values[0])/h - (y_values[m-1]-y_values[m-2])/h - h/6*M[1] - h/6*M[m-2] )\n",
    "\n",
    "    # Momentenvektor printen\n",
    "    print(f\"Momentenvektor:{M}\")\n",
    "\n",
    "    # kubische Spline-Funktion definieren\n",
    "    def s(x):\n",
    "        \n",
    "        # falls x ein Skalar ist\n",
    "        if np.isscalar(x):\n",
    "\n",
    "            # entsprechendes Teilintervall für x finden\n",
    "            i = 0\n",
    "            while (i < m-2) and (x_values[i+1] < x): # erste Abbruchbedingung verhindert allfälligen Indexüberlauf bei ungültigem x\n",
    "                i += 1\n",
    "\n",
    "            # Berechne die Funktion s_i(x) -> in der folgenden Zeile steht die eigentliche Berechnung von s für das Teilintervall i\n",
    "            y = (M[i] * (x_values[i+1] - x)**3 + M[i+1] * (x - x_values[i])**3) / (6*h) + ((y_values[i] - M[i]*h**2/6) * (x_values[i+1] - x) + (y_values[i+1] - M[i+1]*h**2/6) * (x - x_values[i])) / h\n",
    "        \n",
    "        # falls x ein Array ist, muss s() (rekursiv) für alle Elemente in x aufgerufen werden (\"list comprehension\")\n",
    "        else:\n",
    "            y = np.array([s(val) for val in x])  # s auf jedes Element von x anwenden\n",
    "        \n",
    "        return y \n",
    "    \n",
    "\n",
    "    return s # die periodische Splinefunktion s() zurückgeben\n",
    "\n",
    "# gegeben aus Aufgabenstellung\n",
    "t = np.array([0, 5, 10, 15, 20], dtype=float)\n",
    "u = np.array([-1.5, 1.5, 2.5, -0.5, -1.5])\n",
    "\n",
    "# kubisch periodische Spline-Interpolation durchführen\n",
    "s = cubic_periodic_spline(t, u) # Spline-Funktion berechnen\n",
    "\n",
    "# Wert des Splines bei 12 berechnen\n",
    "print(f\"Wert des Splines bei t=12ms: s(12ms) = {s(12)}V\")"
   ]
  },
  {
   "attachments": {},
   "cell_type": "markdown",
   "metadata": {},
   "source": [
    "# A2 c) Vergleich der Methoden"
   ]
  },
  {
   "cell_type": "code",
   "execution_count": 90,
   "metadata": {},
   "outputs": [
    {
     "name": "stdout",
     "output_type": "stream",
     "text": [
      "Maximale absolute Differenz zwischen den beiden Methoden: \n",
      "0.05895883927879009\n"
     ]
    },
    {
     "data": {
      "image/png": "[encoded data removed]",
      "text/plain": [
       "<Figure size 640x480 with 1 Axes>"
      ]
     },
     "metadata": {},
     "output_type": "display_data"
    }
   ],
   "source": [
    "# Zeitvektor für die Berechnung des maximalen Unterschieds\n",
    "k = np.linspace(0, 400, 401) # 401 Werte zwischen 0 und 400\n",
    "t_test = k/400 * periode \n",
    "\n",
    "# maximale absolute Differenz zwischen den beiden Methoden\n",
    "max_diff = np.max(np.abs(s(t_test) - phi(t_test)))\n",
    "\n",
    "print(f\"Maximale absolute Differenz zwischen den beiden Methoden: \\n{max_diff}\")\n",
    "\n",
    "# Plot\n",
    "t_new = np.linspace(t[0], t[-1], 1000)\n",
    "u_spline = s(t_new)\n",
    "u_ausgl = phi(t_new)\n",
    "plt.plot(t, u, 'o', label=\"Messwerte\")\n",
    "plt.plot(t_new, u_spline, linewidth=1, label=\"Spline Funktion\")\n",
    "plt.plot(t_new, u_ausgl, linewidth=1, label=\"lineare Ausgleichsrechnung\")\n",
    "plt.xlabel(\"t [ms]\")\n",
    "plt.ylabel(\"u [V]\")\n",
    "plt.legend()\n",
    "plt.show()"
   ]
  },
  {
   "attachments": {},
   "cell_type": "markdown",
   "metadata": {},
   "source": [
    "# A3 Finite-Differenzen-Methode"
   ]
  },
  {
   "attachments": {},
   "cell_type": "markdown",
   "metadata": {},
   "source": [
    "c) maximaler Fehler mit Schrittweite h=1/4"
   ]
  },
  {
   "cell_type": "code",
   "execution_count": 91,
   "metadata": {},
   "outputs": [
    {
     "name": "stdout",
     "output_type": "stream",
     "text": [
      "P:\n",
      "[[1. 0. 0.]\n",
      " [0. 1. 0.]\n",
      " [0. 0. 1.]]\n",
      "L:\n",
      "[[ 1.          0.          0.        ]\n",
      " [-0.4375      1.          0.        ]\n",
      " [-0.         -0.52926209  1.        ]]\n",
      "U:\n",
      "[[-32.          17.           0.        ]\n",
      " [  0.         -24.5625      18.        ]\n",
      " [  0.           0.         -22.47328244]]\n",
      "x:\n",
      "[0.722042   1.1933591  1.30033881]\n",
      "Maximaler absoluter Fehler: 0.02515792545844553 bei t = 0.5\n"
     ]
    }
   ],
   "source": [
    "A = np.array([[-32, 17, 0], \n",
    "              [14, -32, 18], \n",
    "              [0, 13, -32]], dtype=float) # Matrix des LGS\n",
    "\n",
    "b = np.array([-3*np.e**(-1/16), -6*np.e**(-1/4), -9*np.e**(-9/16)-57/np.e]) # rechte Seite des LGS\n",
    "\n",
    "# LU decomposition\n",
    "P_T, L, U = sp.linalg.lu(A) # A = P_T @ L @ U\n",
    "P = P_T.T # P = P_T_T\n",
    "\n",
    "print(f\"P:\\n{P}\\nL:\\n{L}\\nU:\\n{U}\")\n",
    "\n",
    "\"\"\"\n",
    "LGS mit LU-Zerlegung loesen:\n",
    "\n",
    "A @ x = b               <=>\n",
    "P_T @ L @ U @ x = b     <=>\n",
    "L @ U @ x = P @ b       <=>\n",
    "L @ y = P @ b           wobei y = U @ x\n",
    "U @ x = y               nach x aufloesen\n",
    "\"\"\"\n",
    "\n",
    "# solve A @ x = b\n",
    "y = sp.linalg.solve_triangular(L, P @ b, lower=True) # L @ y = P @ b nach y aufloesen\n",
    "x = sp.linalg.solve_triangular(U, y, lower=False) # U @ x = y nach x aufloesen\n",
    "\n",
    "print(f\"x:\\n{x}\")\n",
    "\n",
    "# merge inner points and boundary points\n",
    "y0 = 0\n",
    "y4 = 3/np.e\n",
    "y = np.array([y0, *x, y4])\n",
    "\n",
    "# calculate maximum absolute error with t = 0, 0.25, 0.5, 0.75, 1\n",
    "t = np.linspace(0, 1, 5)\n",
    "y_analytical = 3*t*np.e**(-t**2)\n",
    "\n",
    "# calculate maximum absolute error and print it\n",
    "\n",
    "max_error = np.max(np.abs(y - y_analytical))\n",
    "it = np.argmax(np.abs(y - y_analytical)) * 0.25\n",
    "print(f\"Maximaler absoluter Fehler: {max_error} bei t = {it}\")"
   ]
  },
  {
   "attachments": {},
   "cell_type": "markdown",
   "metadata": {},
   "source": [
    "# A4 skalare ODE"
   ]
  },
  {
   "attachments": {},
   "cell_type": "markdown",
   "metadata": {},
   "source": [
    "Verfahren für allgemeine s-stufige skalare ODE's in Standardform"
   ]
  },
  {
   "cell_type": "code",
   "execution_count": 92,
   "metadata": {},
   "outputs": [],
   "source": [
    "\"\"\"\n",
    "description:\n",
    "    solves a first order ODE using a Runge-Kutta method specified by the Butcher tableau \n",
    "\n",
    "params:\n",
    "    x0: start point of the interval\n",
    "    xend: end point of the interval\n",
    "    h: step size\n",
    "    y0: initial value\n",
    "    f: function f(x,y) = y'\n",
    "    df: (diagonally) implicit methods require the derivative of f with respect to y (df(x,y)/dy), for explicit methods df is not needed and can (but doesn't have to) be set to None\n",
    "    A: matrix of coefficients in Butcher tableau\n",
    "    b: row vector at the bottom of Butcher tableau\n",
    "    c: column vector at the left of Butcher tableau\n",
    "\n",
    "returns:\n",
    "    x: array of x values with step size h\n",
    "    y: array of corresponding y values\n",
    "\"\"\"\n",
    "def RK(x0, xend, h, y0, f, df, A, b, c):\n",
    "    x = [x0]\n",
    "    y = [y0]\n",
    "\n",
    "    s = len(c) # number of stages\n",
    "    id = np.eye(s) # identity matrix of size s\n",
    "    r = np.array([f(x[-1],y[-1])]*s) # initialize slopes\n",
    "\n",
    "\n",
    "\n",
    "    # if method is explicit (ERK), we can sequentially compute the slopes in each stage:\n",
    "    if np.allclose(A,np.tril(A, -1)):\n",
    "\n",
    "        # loop over all time steps\n",
    "        while x[-1] < xend-h/2:\n",
    "            # loop over stages\n",
    "            for i in range(s):\n",
    "                r[i] = f(x[-1]+c[i]*h, y[-1]+h*(A[i,:i]@r[:i]))\n",
    "            y.append(y[-1]+h*r@b)\n",
    "            x.append(x[-1]+h)\n",
    "\n",
    "\n",
    "    # if method is diagonally implicit (DIRK), we can sequentially compute the slopes in each stage using scalar Newton's method:\n",
    "    elif np.allclose(A,np.tril(A)):\n",
    "\n",
    "        # function for Newton's method\n",
    "        def g(ri, xk, yk):\n",
    "            res = ri - f(xk+c[i]*h, yk+h*(A[i,:i]@r[:i] + A[i,i]*ri))\n",
    "            return res\n",
    "        \n",
    "        # derivative of g with respect to r\n",
    "        def dg(ri, xk, yk):\n",
    "            res = 1 - h*A[i,i]*df(xk+c[i]*h, yk+h*(A[i,:i]@r[:i] + A[i,i]*ri))\n",
    "            return res\n",
    "\n",
    "        # Newton's method for DIRK\n",
    "        def newton_scalar(r, xk, yk, tol=1e-12, maxIter=20):\n",
    "            k = 0\n",
    "            delta = 10 * tol\n",
    "            while np.abs(delta) > tol and k < maxIter:\n",
    "                delta = g(r,xk,yk) / dg(r,xk,yk)\n",
    "                r = r - delta\n",
    "                k += 1\n",
    "            return r\n",
    "        \n",
    "        # loop over all time steps\n",
    "        while x[-1] < xend-h/2:\n",
    "            # loop over stages\n",
    "            for i in range(s):\n",
    "                r[i] = newton_scalar(r[i], x[-1], y[-1]) # compute slope for stage i\n",
    "            y.append(y[-1]+h*r@b)\n",
    "            x.append(x[-1]+h)\n",
    "\n",
    "\n",
    "    # if method is fully implicit (IRK), we need to solve a system of equations in each time step:\n",
    "    else:\n",
    "        \n",
    "        # function for Newton's method\n",
    "        def G(r, xk, yk):\n",
    "            res = np.zeros(s) # residual vector \n",
    "            # loop over stages\n",
    "            for i in range(s):\n",
    "                res[i] = r[i] - f(xk+c[i]*h, yk+h*(A[i,:]@r)) # compute residual for stage i\n",
    "            return res\n",
    "\n",
    "        # Jacobian of G\n",
    "        def DG(r, xk, yk):\n",
    "            J = np.zeros((s,s)) # Jacobian matrix\n",
    "            # loop over rows of J and A\n",
    "            for i in range(s):\n",
    "                df_val = df(xk+c[i]*h, yk+h*(A[i,:]@r))  # evaluate derivative of f once for each i\n",
    "                # loop over columns of J and A\n",
    "                for j in range(s):\n",
    "                    J[i,j] = id[i,j] - h*A[i,j]*df_val\n",
    "            return J\n",
    "\n",
    "        \n",
    "        # Newton's method for IRK\n",
    "        def newton_vector(r, xk, yk, tol=1e-12, maxIter=20):\n",
    "            k = 0\n",
    "            delta = np.ones(s)*tol*10\n",
    "            while np.linalg.norm(delta,np.inf) > tol and k < maxIter:\n",
    "                J = DG(r,xk,yk)\n",
    "                res = G(r,xk,yk)\n",
    "                P_T,L,R = sp.linalg.lu(J)\n",
    "                z = sp.linalg.solve_triangular(L,P_T.T@res,lower=True)\n",
    "                delta = sp.linalg.solve_triangular(R,z,lower=False)\n",
    "                r = r - delta\n",
    "                k += 1\n",
    "            return r\n",
    "        \n",
    "        # loop over all time steps\n",
    "        while x[-1] < xend-h/2:\n",
    "            r = newton_vector(r,x[-1],y[-1]) # slope to be used to compute y_{k+1}\n",
    "            y.append(y[-1]+h*r@b)\n",
    "            x.append(x[-1]+h)\n",
    "\n",
    "\n",
    "\n",
    "    return np.array(x), np.array(y)"
   ]
  },
  {
   "attachments": {},
   "cell_type": "markdown",
   "metadata": {},
   "source": [
    "a) gDgl in Standardform bringen"
   ]
  },
  {
   "cell_type": "code",
   "execution_count": 93,
   "metadata": {},
   "outputs": [],
   "source": [
    "# gDgl in Standardform\n",
    "def f(x,y):\n",
    "    return y - (1.0/y)*(0.5 + x)\n",
    "\n",
    "# partielle Ableitung von f nach y\n",
    "def df(x,y):\n",
    "    return 1.0 + (1.0/(y**2.0))*(0.5 + x)\n",
    "\n",
    "# Anfangspunkt\n",
    "x0 = 0.0\n",
    "y0 = 1.0"
   ]
  },
  {
   "attachments": {},
   "cell_type": "markdown",
   "metadata": {},
   "source": [
    "b) RK-Verfahren anhand Butcher-Tableau implementieren und Konvergenzordnung bestimmen"
   ]
  },
  {
   "cell_type": "code",
   "execution_count": 94,
   "metadata": {},
   "outputs": [
    {
     "name": "stdout",
     "output_type": "stream",
     "text": [
      "error at x = 3.0 with N = 30.0 steps: 0.004510228202686317\n",
      "error at x = 3.0 with N = 300.0 steps: 3.839440265274163e-06\n",
      "error at x = 3.0 with N = 3000.0 steps: 3.782664848017703e-09\n"
     ]
    }
   ],
   "source": [
    "# Butcher tableau for Crouzeix's method\n",
    "A = np.array([[0.5 + np.sqrt(3)/6, 0.0], [-np.sqrt(3)/3, 0.5 + np.sqrt(3)/6]])\n",
    "b = np.array([0.5, 0.5])\n",
    "c = np.array([0.5 + np.sqrt(3)/6, 0.5 - np.sqrt(3)/6])\n",
    "\n",
    "# exact solution at x = 3\n",
    "x_end = 3.0\n",
    "y_end = 2.0\n",
    "\n",
    "\n",
    "Ns = np.array([30.0, 300.0, 3000.0])\n",
    "\n",
    "for N in Ns:\n",
    "    h = (x_end - x0)/N\n",
    "    x,y = RK(x0, x_end, h, y0, f, df, A, b, c)\n",
    "    print(f\"error at x = {x_end} with N = {N} steps: {abs(y[-1]-y_end)}\")"
   ]
  },
  {
   "attachments": {},
   "cell_type": "markdown",
   "metadata": {},
   "source": [
    "# A5 Systeme von ODE's"
   ]
  },
  {
   "attachments": {},
   "cell_type": "markdown",
   "metadata": {},
   "source": [
    "b) RK4, maximaler absoluter Fehler"
   ]
  },
  {
   "cell_type": "code",
   "execution_count": 95,
   "metadata": {},
   "outputs": [],
   "source": [
    "\"\"\"\n",
    "description:\n",
    "    solves a system of first order ODEs using a Runge-Kutta method specified by the Butcher tableau\n",
    "    \n",
    "params:\n",
    "    x0: start point of the interval\n",
    "    xend: end point of the interval\n",
    "    h: step size\n",
    "    y0: initial value\n",
    "    f: function f(x,y) = y'\n",
    "    Df: implicit methods require the Jacobian of f with respect to y (df(x,y)/dy), for explicit methods Df is not needed and can (but doesn't have to) be set to None\n",
    "    A: matrix of Butcher tableau\n",
    "    b: row vector at the bottom of Butcher tableau\n",
    "    c: left-hand side of Butcher tableau\n",
    "\n",
    "returns:\n",
    "    x: array of x values with step size h\n",
    "    y: array of corresponding y values\n",
    "\"\"\"\n",
    "def RK_Sys(x0, xend, h, y0, f, Df, A, b, c):\n",
    "    n = len(y0)\n",
    "    \n",
    "    x = [x0]\n",
    "    y = [y0]\n",
    "\n",
    "    s = len(c) # number of stages\n",
    "    r = np.array([f(x[-1],y[-1])]*s) # initialize slopes\n",
    "\n",
    "\n",
    "\n",
    "    # if method is explicit (ERK), we can sequentially compute the slopes in each stage:\n",
    "    if np.allclose(A,np.tril(A, -1)):\n",
    "\n",
    "        # loop over all time steps\n",
    "        while x[-1] < xend-h/2:\n",
    "            # loop over stages\n",
    "            for i in range(s):\n",
    "                r[i] = f(x[-1]+c[i]*h, y[-1]+h*(A[i,:i]@r[:i]))\n",
    "            y.append(y[-1]+h*b@r)\n",
    "            x.append(x[-1]+h)\n",
    "\n",
    "\n",
    "    # if method is diagonally implicit (DIRK), we can sequentially compute the slopes in each stage using Newton's method for systems of n equations.\n",
    "    elif np.allclose(A,np.tril(A)):\n",
    "\n",
    "        # function for Newton's method\n",
    "        def g(ri, xk, yk):\n",
    "            return ri - f(xk+c[i]*h, yk+h*(A[i,:i]@r[:i] + A[i,i]*ri))\n",
    "        \n",
    "        # derivative of g with respect to r\n",
    "        def Dg(ri, xk, yk):\n",
    "            return np.identity(n) - h*A[i,i]*Df(xk+c[i]*h, yk+h*(A[i,:i]@r[:i] + A[i,i]*ri))\n",
    "\n",
    "        # Newton's method for DIRK\n",
    "        def newton_vector(r, xk, yk, tol=1e-12, maxIter=20):\n",
    "            k = 0\n",
    "            delta = np.ones(n)*tol*10\n",
    "            while np.linalg.norm(delta,np.inf) > tol and k < maxIter:\n",
    "                J = Dg(r,xk,yk)\n",
    "                res = g(r,xk,yk)\n",
    "                P_T,L,R = sp.linalg.lu(J)\n",
    "                z = sp.linalg.solve_triangular(L,P_T.T@res,lower=True)\n",
    "                delta = sp.linalg.solve_triangular(R,z,lower=False)\n",
    "                r = r - delta\n",
    "            return r\n",
    "        \n",
    "        # loop over all time steps\n",
    "        while x[-1] < xend-h/2:\n",
    "            # loop over stages\n",
    "            for i in range(s):\n",
    "                r[i] = newton_vector(r[i], x[-1], y[-1]) # compute slope for stage i\n",
    "            y.append(y[-1]+h*b@r)\n",
    "            x.append(x[-1]+h)\n",
    "\n",
    "\n",
    "    # if method is fully implicit (IRK), we would need to solve s*n equations in each time step => not implemented\n",
    "    else:\n",
    "        \n",
    "        print('IRK not implemented')\n",
    "\n",
    "\n",
    "\n",
    "    return np.array(x), np.array(y)"
   ]
  },
  {
   "cell_type": "code",
   "execution_count": 96,
   "metadata": {},
   "outputs": [
    {
     "name": "stdout",
     "output_type": "stream",
     "text": [
      "Maximaler Fehler von y1: 3.353665381830573e-05\n",
      "Maximaler Fehler von y2: 5.644011859295972e-05\n"
     ]
    }
   ],
   "source": [
    "def f(x,y):\n",
    "    return np.array([\n",
    "        y[1],\n",
    "        y[1]**2 + 4.0*y[0]*(y[0]-2) + 2.0\n",
    "    ])\n",
    "\n",
    "N = 20\n",
    "x_end = 2.0\n",
    "x_0 = 0.0\n",
    "h = (x_end-x_0)/N\n",
    "y0 = np.array([1,0])\n",
    "\n",
    "# Butcher tableau for the classical RK4 method\n",
    "A_RK4 = np.array([[0.0, 0.0, 0.0, 0.0],\n",
    "                [1/2, 0.0, 0.0, 0.0],\n",
    "                [0.0, 1/2, 0.0, 0.0],\n",
    "                [0.0, 0.0, 1.0, 0.0]], dtype=float)\n",
    "b_RK4 = np.array([1/6, 1/3, 1/3, 1/6], dtype=float)\n",
    "c_RK4 = np.array([0.0, 1/2, 1/2, 1.0], dtype=float)\n",
    "\n",
    "x, y = RK_Sys(x_0, x_end, (x_end-x_0)/N, y0, f, None, A_RK4, b_RK4, c_RK4)\n",
    "\n",
    "# analytical solution\n",
    "y1_an = lambda x: np.cos(x)**2\n",
    "y2_an = lambda x: 2*np.cos(x)*(-np.sin(x))\n",
    "\n",
    "# calculate maximum absolute error\n",
    "y1_err = np.max(np.abs(y[:,0] - y1_an(x)))\n",
    "print(f\"Maximaler Fehler von y1: {y1_err}\")\n",
    "y2_err = np.max(np.abs(y[:,1] - y2_an(x)))\n",
    "print(f\"Maximaler Fehler von y2: {y2_err}\")"
   ]
  },
  {
   "attachments": {},
   "cell_type": "markdown",
   "metadata": {},
   "source": [
    "c) Jakobi berechnen"
   ]
  },
  {
   "cell_type": "code",
   "execution_count": 97,
   "metadata": {},
   "outputs": [
    {
     "name": "stdout",
     "output_type": "stream",
     "text": [
      "vector-valued function:\n",
      "⎡          y₂           ⎤\n",
      "⎢                       ⎥\n",
      "⎢                  2    ⎥\n",
      "⎣4⋅y₁⋅(y₁ - 2) + y₂  + 2⎦\n",
      "Latex:\n",
      "$ \\left[\\begin{matrix}y_{2}\\\\4 y_{1} \\left(y_{1} - 2\\right) + y_{2}^{2} + 2\\end{matrix}\\right] $\n",
      "\n",
      "Jacobian of the function:\n",
      "⎡   0       1  ⎤\n",
      "⎢              ⎥\n",
      "⎣8⋅y₁ - 8  2⋅y₂⎦\n",
      "Latex:\n",
      "$ \\left[\\begin{matrix}0 & 1\\\\8 y_{1} - 8 & 2 y_{2}\\end{matrix}\\right] $\n",
      "\n"
     ]
    }
   ],
   "source": [
    "# variables\n",
    "var_names = ['y1', 'y2']\n",
    "vars = []\n",
    "for var in var_names:\n",
    "    exec(f\"{var} = sym.symbols('{var}')\")\n",
    "    vars.append(eval(var))\n",
    "\n",
    "# parameters\n",
    "param_names = []\n",
    "params = []\n",
    "for param in param_names:\n",
    "    exec(f\"{param} = sym.symbols('{param}')\")\n",
    "    params.append(eval(param))\n",
    "\n",
    "# components f1, f2, etc. of the vector-valued function (must be separated by a comma!)\n",
    "f_components = [\n",
    "    y2,\n",
    "    y2**2 + 4*y1*(y1-2) + 2\n",
    "]\n",
    "\n",
    "\n",
    "# convert the list of sympy functions to a vector-valued sympy function\n",
    "f_sym = sym.Matrix(f_components)\n",
    "\n",
    "# calculate the Jacobian matrix of the function\n",
    "Df_sym = f_sym.jacobian(vars)\n",
    "\n",
    "# print the system of equations\n",
    "print(\"vector-valued function:\")\n",
    "sym.pprint(f_sym)\n",
    "print(\"Latex:\\n$\", sym.latex(f_sym), \"$\\n\")\n",
    "\n",
    "# print the Jacobian matrix\n",
    "print(\"Jacobian of the function:\")\n",
    "sym.pprint(Df_sym)\n",
    "print(\"Latex:\\n$\", sym.latex(Df_sym), \"$\\n\")"
   ]
  },
  {
   "attachments": {},
   "cell_type": "markdown",
   "metadata": {},
   "source": [
    "# A6 Nichtlineare Gleichungssyteme, Newton"
   ]
  },
  {
   "attachments": {},
   "cell_type": "markdown",
   "metadata": {},
   "source": [
    "b) Jakobi des Systems"
   ]
  },
  {
   "cell_type": "code",
   "execution_count": 98,
   "metadata": {},
   "outputs": [
    {
     "name": "stdout",
     "output_type": "stream",
     "text": [
      "Latex:\n",
      "$ \\left[\\begin{matrix}- K_{1} \\left(b_{0} - x_{1}\\right) - K_{1} \\left(a_{0} - x_{1} - x_{2}\\right) - 1 & - K_{1} \\left(b_{0} - x_{1}\\right) + 1\\\\K_{2} \\left(a_{0} - x_{1} - x_{2}\\right) - K_{2} \\left(c_{0} + x_{1} - x_{2}\\right) & - K_{2} \\left(a_{0} - x_{1} - x_{2}\\right) - K_{2} \\left(c_{0} + x_{1} - x_{2}\\right) - 1\\end{matrix}\\right] $\n",
      "\n"
     ]
    }
   ],
   "source": [
    "# variables\n",
    "var_names = ['x1', 'x2']\n",
    "vars = []\n",
    "for var in var_names:\n",
    "    exec(f\"{var} = sym.symbols('{var}')\")\n",
    "    vars.append(eval(var))\n",
    "\n",
    "# parameters\n",
    "param_names = ['a0', 'b0', 'c0', 'd0', 'K1', 'K2']\n",
    "params = []\n",
    "for param in param_names:\n",
    "    exec(f\"{param} = sym.symbols('{param}')\")\n",
    "    params.append(eval(param))\n",
    "\n",
    "# components f1, f2, etc. of the vector-valued function (must be separated by a comma!)\n",
    "f_components = [\n",
    "    K1*(a0-x1-x2)*(b0-x1)-x1+x2-c0,\n",
    "    K2*(a0-x1-x2)*(c0+x1-x2)-x2-d0\n",
    "]\n",
    "\n",
    "\n",
    "\n",
    "# convert the list of sympy functions to a vector-valued sympy function\n",
    "f_sym = sym.Matrix(f_components)\n",
    "\n",
    "# calculate the Jacobian matrix of the function\n",
    "Df_sym = f_sym.jacobian(vars)\n",
    "\n",
    "# print the Jacobian matrix\n",
    "print(\"Latex:\\n$\", sym.latex(Df_sym), \"$\\n\")\n",
    "\n",
    "# Convert to numerical functions\n",
    "f = sym.lambdify(vars+params, f_sym, 'numpy')\n",
    "Df = sym.lambdify(vars+params, Df_sym, 'numpy')\n",
    "\n",
    "# Wrap the lambdified functions to accept the variables and parameters as two separate arguments\n",
    "f_wrapped = lambda x, a: np.array(f(*x, *a)).ravel()\n",
    "Df_wrapped = lambda x, a: np.array(Df(*x, *a))"
   ]
  },
  {
   "attachments": {},
   "cell_type": "markdown",
   "metadata": {},
   "source": [
    "c) Newtonverfahren für Systeme"
   ]
  },
  {
   "cell_type": "code",
   "execution_count": 99,
   "metadata": {},
   "outputs": [],
   "source": [
    "# Newton's method for solving nonlinear systems\n",
    "\"\"\"\n",
    "Solve nonlinear system f(x)=0 by Newton's method.\n",
    "J is the Jacobian of f. Both f and J must be functions of x.\n",
    "At input, x holds the start value. \n",
    "The iteration continues until |f(x)| < tol or the max number of iterations is exceeded.\n",
    "\"\"\"\n",
    "def newton_solver(f, J, x, tol = 1e-10, max_iter = 100):\n",
    "    for i in range(max_iter):\n",
    "        if np.linalg.norm(f(x)) < tol:\n",
    "            print('Found solution after',i,'iterations.')\n",
    "            return x\n",
    "        delta = np.linalg.solve(J(x), f(x))\n",
    "        x = x - delta\n",
    "\n",
    "    print('Exceeded maximum iterations. No solution found.')\n",
    "    return None"
   ]
  },
  {
   "cell_type": "code",
   "execution_count": 100,
   "metadata": {},
   "outputs": [
    {
     "name": "stdout",
     "output_type": "stream",
     "text": [
      "Found solution after 7 iterations.\n",
      "Solution: x = [0.00299679 0.00295644]\n"
     ]
    }
   ],
   "source": [
    "# parameters\n",
    "a0, b0, c0, d0, K1, K2 = 0.007, 0.003, 0.0, 0.0, 1.2e4, 7.0e4\n",
    "a = np.array([a0, b0, c0, d0, K1, K2])\n",
    "\n",
    "# if the parameters are known, the function and Jacobian can be simplified to accept only the variables as argument\n",
    "f_wrapped_simple = lambda x: f_wrapped(x, a)\n",
    "Df_wrapped_simple = lambda x: Df_wrapped(x, a)\n",
    "\n",
    "x0 = np.array([0.0, 0.0])\n",
    "x = newton_solver(f_wrapped_simple, Df_wrapped_simple, x0)\n",
    "print(f\"Solution: x = {x}\")"
   ]
  },
  {
   "attachments": {},
   "cell_type": "markdown",
   "metadata": {},
   "source": [
    "d) Lösungen in Formeln einsetzen"
   ]
  },
  {
   "cell_type": "code",
   "execution_count": 101,
   "metadata": {},
   "outputs": [
    {
     "name": "stdout",
     "output_type": "stream",
     "text": [
      "Gleichgewichtskonzentrationen: \n",
      "[1.04677187e-03 3.21207555e-06 4.03477215e-05 2.95644020e-03]\n"
     ]
    }
   ],
   "source": [
    "# Gleichgewichtskonzentrationen a, b, d, c der vier an der Reaktion beteiligten Stoffe berechnen\n",
    "a = a0 - x[0] - x[1]\n",
    "b = b0 - x[0]\n",
    "c = c0 + x[0] - x[1]\n",
    "d = d0 + x[1]\n",
    "\n",
    "# convert to numpy array for better printing\n",
    "conc = np.array([a, b, c, d])\n",
    "\n",
    "print(f\"Gleichgewichtskonzentrationen: \\n{conc}\")"
   ]
  }
 ],
 "metadata": {
  "kernelspec": {
   "display_name": "base",
   "language": "python",
   "name": "python3"
  },
  "language_info": {
   "codemirror_mode": {
    "name": "ipython",
    "version": 3
   },
   "file_extension": ".py",
   "mimetype": "text/x-python",
   "name": "python",
   "nbconvert_exporter": "python",
   "pygments_lexer": "ipython3",
   "version": "3.10.9"
  },
  "orig_nbformat": 4
 },
 "nbformat": 4,
 "nbformat_minor": 2
}
